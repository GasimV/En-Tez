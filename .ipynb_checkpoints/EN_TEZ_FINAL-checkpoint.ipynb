{
 "cells": [
  {
   "cell_type": "markdown",
   "metadata": {},
   "source": [
    "1. **Data Preprocessing**:\n",
    "    - Load the dataset.\n",
    "    - Check for missing values.\n",
    "    - Check for duplicates.\n",
    "    - Correct inconsistencies in intent labels.\n",
    "    - Analyze the distribution of the data.  \n",
    "\n",
    "\n",
    "2. **Data Splitting**:\n",
    "    - Split the dataset into training, validation, and test sets in the proportion 60-20-20.  \n",
    "\n",
    "\n",
    "3. **Feature Engineering**:\n",
    "    - Vectorize the text data for use with machine learning models.  \n",
    "\n",
    "\n",
    "4. **Model Training & Evaluation**:\n",
    "    - Build the KNN and Multinomial NB models on the training set.\n",
    "    - Evaluate the models on the validation set using accuracy, precision, recall, and F1-score.  \n",
    "\n",
    "\n",
    "5. **Final Model Training & Evaluation**:\n",
    "    - After identifying the best model using the validation set, combine the training and validation sets.\n",
    "    - Train the best model on this combined data.\n",
    "    - Evaluate the final model on the test set using the mentioned metrics.  \n",
    "\n",
    "\n",
    "6. **Model Export & Voice ChatBot Integration**:\n",
    "    - Save the best model to a file for later use.\n",
    "    - Test it with the Speech Recognition Module."
   ]
  },
  {
   "cell_type": "code",
   "execution_count": 1,
   "metadata": {},
   "outputs": [],
   "source": [
    "import pandas as pd\n",
    "import matplotlib.pyplot as plt\n",
    "from sklearn.model_selection import train_test_split\n",
    "from sklearn.feature_extraction.text import TfidfVectorizer\n",
    "from sklearn.naive_bayes import MultinomialNB\n",
    "from sklearn.neighbors import KNeighborsClassifier\n",
    "from sklearn.metrics import accuracy_score, precision_score, recall_score, f1_score\n",
    "import joblib\n",
    "import speech_recognition as sr"
   ]
  },
  {
   "cell_type": "markdown",
   "metadata": {},
   "source": [
    "# 1. Data Preprocessing"
   ]
  },
  {
   "cell_type": "code",
   "execution_count": 2,
   "metadata": {},
   "outputs": [
    {
     "name": "stdout",
     "output_type": "stream",
     "text": [
      "                                            Text  \\\n",
      "0                salam doğum kağızını bura verir   \n",
      "1  sənəd hazır olanda süd pulu arayışı veriləcək   \n",
      "2         salam xanım yaş kağızı almağa gəlmişəm   \n",
      "3  salam doğum şəhadətnaməsi almaq üçün gəlmişəm   \n",
      "4         təzə doğulan uşağa sənəd üçün gəlmişəm   \n",
      "\n",
      "                                     Intent  \n",
      "0  yeni doğulmuş uşağın qeydiyyata alınması  \n",
      "1  yeni doğulmuş uşağın qeydiyyata alınması  \n",
      "2  yeni doğulmuş uşağın qeydiyyata alınması  \n",
      "3  yeni doğulmuş uşağın qeydiyyata alınması  \n",
      "4  yeni doğulmuş uşağın qeydiyyata alınması  \n"
     ]
    }
   ],
   "source": [
    "# Load the dataset\n",
    "data = pd.read_csv(\"E:/Software/Data Science and AI/NLP/Edliyye/datasets/az_intent_balanced.csv\")\n",
    "\n",
    "# Check the first few rows of the data to get an understanding of its structure\n",
    "print(data.head())"
   ]
  },
  {
   "cell_type": "markdown",
   "metadata": {},
   "source": [
    "**The dataset contains 2 columns:**\n",
    "\n",
    "- ***Text***: This represents the user's input or query.\n",
    "- ***Intent***: This is the category or intent of the corresponding user input."
   ]
  },
  {
   "cell_type": "code",
   "execution_count": 3,
   "metadata": {},
   "outputs": [
    {
     "name": "stdout",
     "output_type": "stream",
     "text": [
      "yeni doğulmuş uşağın qeydiyyata alınması       53\n",
      "   ölümün qeydə alınması                       52\n",
      "ailə tərkibi haqqında arayış                   38\n",
      "   yeni doğulmuş uşağın qeydiyyata alınması    37\n",
      "   ailə vəziyyətinə dair arayış                21\n",
      "   ailə tərkibi haqqında arayış                20\n",
      "ölümün qeydə alınması                          18\n",
      "ailə vəziyyətinə dair arayış                    4\n",
      "ölümün qeydə alınması                           1\n",
      "  ailə vəziyyətinə dair arayış                  1\n",
      "Name: Intent, dtype: int64\n"
     ]
    }
   ],
   "source": [
    "print(data[\"Intent\"].value_counts())"
   ]
  },
  {
   "cell_type": "markdown",
   "metadata": {},
   "source": [
    "***There are some inconsistencies in the intent labels, with extra leading spaces in some labels. This has resulted in similar intents being counted separately, that is why first correct these inconsistencies and then proceed with the analysis of the distribution.***\n",
    "\n",
    "Also, I'll:\n",
    "- Check for missing values.\n",
    "- Check for duplicates."
   ]
  },
  {
   "cell_type": "code",
   "execution_count": 4,
   "metadata": {},
   "outputs": [
    {
     "data": {
      "text/plain": [
       "(Text      0\n",
       " Intent    0\n",
       " dtype: int64, 12)"
      ]
     },
     "execution_count": 4,
     "metadata": {},
     "output_type": "execute_result"
    }
   ],
   "source": [
    "# Correct inconsistencies in intent labels by stripping leading and trailing spaces\n",
    "data['Intent'] = data['Intent'].str.strip()\n",
    "\n",
    "# Check for missing values\n",
    "missing_values = data.isnull().sum()\n",
    "\n",
    "# Check for duplicates\n",
    "duplicates = data.duplicated().sum()\n",
    "\n",
    "# Display missing values and duplicates count\n",
    "missing_values, duplicates"
   ]
  },
  {
   "cell_type": "markdown",
   "metadata": {},
   "source": [
    "The dataset has:\n",
    "\n",
    "- No missing values.\n",
    "- 12 duplicated rows.\n",
    "\n",
    "I'll proceed by removing these duplicates. After that, I'll analyze the distribution of the data."
   ]
  },
  {
   "cell_type": "code",
   "execution_count": 5,
   "metadata": {},
   "outputs": [
    {
     "data": {
      "text/plain": [
       "yeni doğulmuş uşağın qeydiyyata alınması    86\n",
       "ölümün qeydə alınması                       65\n",
       "ailə tərkibi haqqında arayış                56\n",
       "ailə vəziyyətinə dair arayış                26\n",
       "Name: Intent, dtype: int64"
      ]
     },
     "execution_count": 5,
     "metadata": {},
     "output_type": "execute_result"
    }
   ],
   "source": [
    "# Remove duplicates\n",
    "data.drop_duplicates(inplace=True)\n",
    "\n",
    "# Check the distribution of the intents\n",
    "intent_distribution = data['Intent'].value_counts()\n",
    "intent_distribution"
   ]
  },
  {
   "cell_type": "code",
   "execution_count": 6,
   "metadata": {},
   "outputs": [
    {
     "data": {
      "image/png": "[encoded data removed]",
      "text/plain": [
       "<Figure size 864x432 with 1 Axes>"
      ]
     },
     "metadata": {
      "needs_background": "light"
     },
     "output_type": "display_data"
    }
   ],
   "source": [
    "# Count of each intent\n",
    "intent_counts = data['Intent'].value_counts()\n",
    "\n",
    "# Plotting the distribution of intents\n",
    "plt.figure(figsize=(12, 6))\n",
    "intent_counts.plot(kind='bar', color='skyblue')\n",
    "plt.title('Distribution of Intents')\n",
    "plt.ylabel('Number of Samples')\n",
    "plt.xlabel('Intent')\n",
    "plt.xticks(rotation=45, ha='right')\n",
    "plt.tight_layout()\n",
    "plt.show()"
   ]
  },
  {
   "cell_type": "markdown",
   "metadata": {},
   "source": [
    "# 2. Data Splitting"
   ]
  },
  {
   "cell_type": "code",
   "execution_count": 7,
   "metadata": {},
   "outputs": [
    {
     "data": {
      "text/plain": [
       "((139, 2), (47, 2), (47, 2))"
      ]
     },
     "execution_count": 7,
     "metadata": {},
     "output_type": "execute_result"
    }
   ],
   "source": [
    "# Splitting the data into training (60%), validation (20%), and test (20%) sets\n",
    "train, temp = train_test_split(data, test_size=0.4, stratify=data['Intent'], random_state=42)\n",
    "valid, test = train_test_split(temp, test_size=0.5, stratify=temp['Intent'], random_state=42)\n",
    "\n",
    "# Display the shape of each set\n",
    "train.shape, valid.shape, test.shape"
   ]
  },
  {
   "cell_type": "markdown",
   "metadata": {},
   "source": [
    "The dataset has been successfully split into training, validation, and test sets with the respective sizes:\n",
    "\n",
    "- Training set: 139 samples\n",
    "- Validation set: 47 samples\n",
    "- Test set: 47 samples\n",
    "\n",
    "Next, we need vectorize the text data to make it suitable for machine learning models. I'll use the TF-IDF (Term Frequency-Inverse Document Frequency) method for this."
   ]
  },
  {
   "cell_type": "markdown",
   "metadata": {},
   "source": [
    "# 3. Feature Engineering"
   ]
  },
  {
   "cell_type": "code",
   "execution_count": 8,
   "metadata": {},
   "outputs": [
    {
     "data": {
      "text/plain": [
       "((139, 299), (47, 299), (47, 299))"
      ]
     },
     "execution_count": 8,
     "metadata": {},
     "output_type": "execute_result"
    }
   ],
   "source": [
    "# Initialize the TF-IDF vectorizer\n",
    "vectorizer = TfidfVectorizer()\n",
    "\n",
    "# Fit the vectorizer on the training set and transform the training data\n",
    "X_train = vectorizer.fit_transform(train['Text'])\n",
    "\n",
    "# Transform the validation and test data\n",
    "X_valid = vectorizer.transform(valid['Text'])\n",
    "X_test = vectorizer.transform(test['Text'])\n",
    "\n",
    "# Extracting the labels for training, validation, and test sets\n",
    "y_train = train['Intent']\n",
    "y_valid = valid['Intent']\n",
    "y_test = test['Intent']\n",
    "\n",
    "X_train.shape, X_valid.shape, X_test.shape"
   ]
  },
  {
   "cell_type": "markdown",
   "metadata": {},
   "source": [
    "***The data has been vectorized and transformed into a feature space with 299 features.***\n",
    "\n",
    "Next, we will:\n",
    "\n",
    "- Build and evaluate the K-Nearest Neighbors (KNN) and Multinomial Naive Bayes (NB) models using the validation set.\n",
    "- Use accuracy, precision, recall, and F1-score as evaluation metrics."
   ]
  },
  {
   "cell_type": "markdown",
   "metadata": {},
   "source": [
    "# 4. Model Training & Evaluation"
   ]
  },
  {
   "cell_type": "code",
   "execution_count": 9,
   "metadata": {},
   "outputs": [
    {
     "data": {
      "text/html": [
       "<div>\n",
       "<style scoped>\n",
       "    .dataframe tbody tr th:only-of-type {\n",
       "        vertical-align: middle;\n",
       "    }\n",
       "\n",
       "    .dataframe tbody tr th {\n",
       "        vertical-align: top;\n",
       "    }\n",
       "\n",
       "    .dataframe thead th {\n",
       "        text-align: right;\n",
       "    }\n",
       "</style>\n",
       "<table border=\"1\" class=\"dataframe\">\n",
       "  <thead>\n",
       "    <tr style=\"text-align: right;\">\n",
       "      <th></th>\n",
       "      <th>Accuracy</th>\n",
       "      <th>Precision</th>\n",
       "      <th>Recall</th>\n",
       "      <th>F1-Score</th>\n",
       "    </tr>\n",
       "  </thead>\n",
       "  <tbody>\n",
       "    <tr>\n",
       "      <th>KNN</th>\n",
       "      <td>0.851064</td>\n",
       "      <td>0.857463</td>\n",
       "      <td>0.851064</td>\n",
       "      <td>0.848364</td>\n",
       "    </tr>\n",
       "    <tr>\n",
       "      <th>Multinomial NB</th>\n",
       "      <td>0.851064</td>\n",
       "      <td>0.863222</td>\n",
       "      <td>0.851064</td>\n",
       "      <td>0.826332</td>\n",
       "    </tr>\n",
       "  </tbody>\n",
       "</table>\n",
       "</div>"
      ],
      "text/plain": [
       "                Accuracy  Precision    Recall  F1-Score\n",
       "KNN             0.851064   0.857463  0.851064  0.848364\n",
       "Multinomial NB  0.851064   0.863222  0.851064  0.826332"
      ]
     },
     "execution_count": 9,
     "metadata": {},
     "output_type": "execute_result"
    }
   ],
   "source": [
    "# Initialize the models\n",
    "knn = KNeighborsClassifier()\n",
    "mnb = MultinomialNB()\n",
    "\n",
    "# Train the models\n",
    "knn.fit(X_train, y_train)\n",
    "mnb.fit(X_train, y_train)\n",
    "\n",
    "# Predict on the validation set\n",
    "knn_preds = knn.predict(X_valid)\n",
    "mnb_preds = mnb.predict(X_valid)\n",
    "\n",
    "# Evaluate the models\n",
    "metrics = {\n",
    "    'Accuracy': (accuracy_score(y_valid, knn_preds), accuracy_score(y_valid, mnb_preds)),\n",
    "    'Precision': (precision_score(y_valid, knn_preds, average='weighted'), precision_score(y_valid, mnb_preds, average='weighted')),\n",
    "    'Recall': (recall_score(y_valid, knn_preds, average='weighted'), recall_score(y_valid, mnb_preds, average='weighted')),\n",
    "    'F1-Score': (f1_score(y_valid, knn_preds, average='weighted'), f1_score(y_valid, mnb_preds, average='weighted'))\n",
    "}\n",
    "\n",
    "metrics_df = pd.DataFrame(metrics, columns=['Accuracy', 'Precision', 'Recall', 'F1-Score'], index=['KNN', 'Multinomial NB'])\n",
    "metrics_df"
   ]
  },
  {
   "cell_type": "markdown",
   "metadata": {},
   "source": [
    "Both models have similar accuracy and recall. ***However, KNN has a slightly higher F1-score (85%) compared to Multinomial NB (83%).***\n",
    "\n",
    "**Given these results, we'll choose the KNN model as the best-performing model on the validation set.**\n",
    "\n",
    "*Next, I'll combine the training and validation sets, train the KNN model on this combined data, and then evaluate it on the test set.*"
   ]
  },
  {
   "cell_type": "markdown",
   "metadata": {},
   "source": [
    "# 5. Final Model Training & Evaluation"
   ]
  },
  {
   "cell_type": "code",
   "execution_count": 10,
   "metadata": {},
   "outputs": [
    {
     "data": {
      "text/plain": [
       "{'Accuracy': 0.851063829787234,\n",
       " 'Precision': 0.8562465902891435,\n",
       " 'Recall': 0.851063829787234,\n",
       " 'F1-Score': 0.8476899696048632}"
      ]
     },
     "execution_count": 10,
     "metadata": {},
     "output_type": "execute_result"
    }
   ],
   "source": [
    "# Combine the training and validation sets\n",
    "X_train_combined = vectorizer.transform(pd.concat([train['Text'], valid['Text']]))\n",
    "y_train_combined = pd.concat([y_train, y_valid])\n",
    "\n",
    "# Train the KNN model on the combined data\n",
    "knn.fit(X_train_combined, y_train_combined)\n",
    "\n",
    "# Predict on the test set\n",
    "knn_test_preds = knn.predict(X_test)\n",
    "\n",
    "# Evaluate the model on the test set\n",
    "test_metrics = {\n",
    "    'Accuracy': accuracy_score(y_test, knn_test_preds),\n",
    "    'Precision': precision_score(y_test, knn_test_preds, average='weighted'),\n",
    "    'Recall': recall_score(y_test, knn_test_preds, average='weighted'),\n",
    "    'F1-Score': f1_score(y_test, knn_test_preds, average='weighted')\n",
    "}\n",
    "\n",
    "test_metrics"
   ]
  },
  {
   "cell_type": "markdown",
   "metadata": {},
   "source": [
    "***F1-Score: 85%!***\n",
    "\n",
    "*The model provides a reasonably good performance on unseen data.*\n",
    "\n",
    "Finally, I will save the trained KNN model and the vectorizer to files so that we can use them in our voice chatbot."
   ]
  },
  {
   "cell_type": "markdown",
   "metadata": {},
   "source": [
    "# 6. Model Export & Voice ChatBot Integration"
   ]
  },
  {
   "cell_type": "code",
   "execution_count": 13,
   "metadata": {},
   "outputs": [],
   "source": [
    "# Save the KNN model\n",
    "# knn_model_path = \".../knn_entez_model.pkl\"\n",
    "# joblib.dump(knn, knn_model_path)\n",
    "\n",
    "# Save the vectorizer\n",
    "# vectorizer_path = \".../tfidf_vectorizer.pkl\"\n",
    "# joblib.dump(vectorizer, vectorizer_path)"
   ]
  },
  {
   "cell_type": "code",
   "execution_count": 12,
   "metadata": {},
   "outputs": [
    {
     "name": "stdout",
     "output_type": "stream",
     "text": [
      "Say something in Azerbaijani!\n",
      "result2:\n",
      "{   'alternative': [   {   'confidence': 0.58886725,\n",
      "                           'transcript': 'subaylıq arayışı'},\n",
      "                       {'transcript': 'subaylıq arayış'},\n",
      "                       {'transcript': 'subaylıq arayışda'},\n",
      "                       {'transcript': 'subaylıq arayışdır'},\n",
      "                       {'transcript': 'subaylıq sarayı'}],\n",
      "    'final': True}\n",
      "Recognized text: subaylıq arayışı\n",
      "Recognized Intent: ailə vəziyyətinə dair arayış\n"
     ]
    }
   ],
   "source": [
    "# Load the trained model and vectorizer\n",
    "knn_model = joblib.load('knn_entez_model.pkl')\n",
    "vectorizer = joblib.load('tfidf_vectorizer.pkl')\n",
    "\n",
    "# Initialize recognizer\n",
    "recognizer = sr.Recognizer()\n",
    "\n",
    "# Capture audio from the microphone\n",
    "with sr.Microphone() as source:\n",
    "    print(\"Say something in Azerbaijani!\")\n",
    "    audio = recognizer.listen(source)\n",
    "\n",
    "# Convert audio to text\n",
    "try:\n",
    "    text = recognizer.recognize_google(audio, language=\"az-AZ\")\n",
    "    print()\n",
    "    print(f\"Recognized text: {text}\")\n",
    "    print()\n",
    "    \n",
    "    # Convert text to features and predict intent\n",
    "    features = vectorizer.transform([text])\n",
    "    intent = knn_model.predict(features)[0]\n",
    "    \n",
    "    print(f\"Recognized Intent: {intent}\")\n",
    "\n",
    "except sr.UnknownValueError:\n",
    "    print(\"Could not understand the audio!\")\n",
    "\n",
    "except sr.RequestError:\n",
    "    print(\"API unavailable! Please try again later.\")"
   ]
  },
  {
   "cell_type": "markdown",
   "metadata": {},
   "source": [
    "**The result showcases a complete flow from speech recognition to intent prediction:**\n",
    "\n",
    "1. Speech Recognition:\n",
    "   - The audio was captured and converted to text using Google's speech recognition service for the Azerbaijani language.\n",
    "   - The recognized text was: \"subaylıq arayışı\".\n",
    "\n",
    "\n",
    "2. Intent Prediction:\n",
    "   - The recognized text was then transformed using the TF-IDF vectorizer to convert it into a feature vector.\n",
    "   - The trained KNN model was then used to predict the intent of the recognized text.\n",
    "   - The predicted intent was: \"ailə vəziyyətinə dair arayış\".\n",
    "\n",
    "***Conclusions:***\n",
    "\n",
    "- The system effectively recognized the spoken Azerbaijani phrase and predicted its corresponding intent.\n",
    "- The recognized text \"subaylıq arayışı\" was mapped to the intent \"ailə vəziyyətinə dair arayış\" (Inquiry about family status). This shows the capability of the model to classify user inputs based on their intent, which is essential for a voice assistant to provide appropriate responses or actions.\n",
    "- It's important to note that while the speech recognition provided alternative transcripts, it selected the one with the highest confidence.\n",
    "- Overall, the integration of speech recognition with intent prediction provides a seamless interaction for users, allowing them to communicate naturally with the system and get relevant responses.\n",
    "\n",
    "**This setup can be used effectively in the En Tez voice chatbot.**"
   ]
  },
  {
   "cell_type": "code",
   "execution_count": null,
   "metadata": {},
   "outputs": [],
   "source": []
  }
 ],
 "metadata": {
  "kernelspec": {
   "display_name": "Python 3",
   "language": "python",
   "name": "python3"
  },
  "language_info": {
   "codemirror_mode": {
    "name": "ipython",
    "version": 3
   },
   "file_extension": ".py",
   "mimetype": "text/x-python",
   "name": "python",
   "nbconvert_exporter": "python",
   "pygments_lexer": "ipython3",
   "version": "3.7.3"
  }
 },
 "nbformat": 4,
 "nbformat_minor": 2
}
