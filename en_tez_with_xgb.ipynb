{
 "cells": [
  {
   "cell_type": "code",
   "execution_count": 14,
   "metadata": {},
   "outputs": [],
   "source": [
    "import pandas as pd\n",
    "import matplotlib.pyplot as plt\n",
    "from sklearn.model_selection import train_test_split\n",
    "from sklearn.utils import resample\n",
    "from sklearn.feature_extraction.text import TfidfVectorizer\n",
    "from sklearn.linear_model import LogisticRegression\n",
    "from sklearn.tree import DecisionTreeClassifier\n",
    "from sklearn.ensemble import RandomForestClassifier, GradientBoostingClassifier\n",
    "from xgboost import XGBClassifier\n",
    "from sklearn.preprocessing import LabelEncoder\n",
    "import lightgbm as lgb\n",
    "from sklearn.svm import SVC\n",
    "from sklearn.neighbors import KNeighborsClassifier\n",
    "from sklearn.naive_bayes import MultinomialNB\n",
    "from sklearn.metrics import accuracy_score, precision_score, recall_score, f1_score\n",
    "import joblib\n",
    "import speech_recognition as sr"
   ]
  },
  {
   "cell_type": "code",
   "execution_count": 3,
   "metadata": {},
   "outputs": [
    {
     "name": "stdout",
     "output_type": "stream",
     "text": [
      "                                            Text  \\\n",
      "0                salam doğum kağızını bura verir   \n",
      "1  sənəd hazır olanda süd pulu arayışı veriləcək   \n",
      "2         salam xanım yaş kağızı almağa gəlmişəm   \n",
      "3  salam doğum şəhadətnaməsi almaq üçün gəlmişəm   \n",
      "4         təzə doğulan uşağa sənəd üçün gəlmişəm   \n",
      "\n",
      "                                     Intent  \n",
      "0  yeni doğulmuş uşağın qeydiyyata alınması  \n",
      "1  yeni doğulmuş uşağın qeydiyyata alınması  \n",
      "2  yeni doğulmuş uşağın qeydiyyata alınması  \n",
      "3  yeni doğulmuş uşağın qeydiyyata alınması  \n",
      "4  yeni doğulmuş uşağın qeydiyyata alınması  \n",
      "\n",
      "yeni doğulmuş uşağın qeydiyyata alınması       53\n",
      "   ölümün qeydə alınması                       52\n",
      "ailə tərkibi haqqında arayış                   38\n",
      "   yeni doğulmuş uşağın qeydiyyata alınması    37\n",
      "   ailə vəziyyətinə dair arayış                21\n",
      "   ailə tərkibi haqqında arayış                20\n",
      "ölümün qeydə alınması                          18\n",
      "ailə vəziyyətinə dair arayış                    4\n",
      "ölümün qeydə alınması                           1\n",
      "  ailə vəziyyətinə dair arayış                  1\n",
      "Name: Intent, dtype: int64\n"
     ]
    }
   ],
   "source": [
    "# Load the dataset\n",
    "data = pd.read_csv(\"E:/Software/Data Science and AI/NLP/Edliyye/datasets/az_intent_balanced.csv\")\n",
    "\n",
    "# Check the first few rows of the data to get an understanding of its structure\n",
    "print(data.head())\n",
    "print()\n",
    "print(data[\"Intent\"].value_counts())"
   ]
  },
  {
   "cell_type": "code",
   "execution_count": 4,
   "metadata": {},
   "outputs": [
    {
     "data": {
      "text/plain": [
       "yeni doğulmuş uşağın qeydiyyata alınması    90\n",
       "ölümün qeydə alınması                       71\n",
       "ailə tərkibi haqqında arayış                58\n",
       "ailə vəziyyətinə dair arayış                26\n",
       "Name: Intent, dtype: int64"
      ]
     },
     "execution_count": 4,
     "metadata": {},
     "output_type": "execute_result"
    }
   ],
   "source": [
    "# Remove any leading or trailing spaces from the intent labels\n",
    "data['Intent'] = data['Intent'].str.strip()\n",
    "\n",
    "# Check the distribution of the intents\n",
    "intent_distribution = data['Intent'].value_counts()\n",
    "intent_distribution"
   ]
  },
  {
   "cell_type": "code",
   "execution_count": 5,
   "metadata": {},
   "outputs": [
    {
     "data": {
      "image/png": "[encoded data removed]",
      "text/plain": [
       "<Figure size 864x432 with 1 Axes>"
      ]
     },
     "metadata": {
      "needs_background": "light"
     },
     "output_type": "display_data"
    }
   ],
   "source": [
    "# Count of each intent\n",
    "intent_counts = data['Intent'].value_counts()\n",
    "\n",
    "# Plotting the distribution of intents\n",
    "plt.figure(figsize=(12, 6))\n",
    "intent_counts.plot(kind='bar', color='skyblue')\n",
    "plt.title('Distribution of Intents')\n",
    "plt.ylabel('Number of Samples')\n",
    "plt.xlabel('Intent')\n",
    "plt.xticks(rotation=45, ha='right')\n",
    "plt.tight_layout()\n",
    "plt.show()"
   ]
  },
  {
   "cell_type": "code",
   "execution_count": 7,
   "metadata": {},
   "outputs": [
    {
     "data": {
      "text/plain": [
       "((147, 2), (49, 2), (49, 2))"
      ]
     },
     "execution_count": 7,
     "metadata": {},
     "output_type": "execute_result"
    }
   ],
   "source": [
    "# Splitting the dataset into training, validation, and test sets\n",
    "train, temp = train_test_split(data, test_size=0.4, stratify=data['Intent'], random_state=42)\n",
    "valid, test = train_test_split(temp, test_size=0.5, stratify=temp['Intent'], random_state=42)\n",
    "\n",
    "# Display the shape of the split datasets\n",
    "train.shape, valid.shape, test.shape"
   ]
  },
  {
   "cell_type": "markdown",
   "metadata": {},
   "source": [
    "The dataset has been successfully split into training, validation, and test sets with the following number of samples:\n",
    "\n",
    "- Training set: 147 samples\n",
    "- Validation set: 49 samples\n",
    "- Test set: 49 samples\n",
    "\n",
    "Now, let's move on to the Feature Engineering step. Here, we'll convert the textual data into a numerical format suitable for machine learning models. We'll use the TF-IDF (Term Frequency-Inverse Document Frequency) vectorizer for this purpose. Remember, we'll fit the vectorizer only on the training set and transform the validation and test sets using the same vectorizer."
   ]
  },
  {
   "cell_type": "code",
   "execution_count": 8,
   "metadata": {},
   "outputs": [
    {
     "data": {
      "text/plain": [
       "((147, 306), (49, 306), (49, 306))"
      ]
     },
     "execution_count": 8,
     "metadata": {},
     "output_type": "execute_result"
    }
   ],
   "source": [
    "# Initialize the TF-IDF vectorizer\n",
    "vectorizer = TfidfVectorizer(max_features=5000)\n",
    "\n",
    "# Fit the vectorizer on the training data and transform the training texts\n",
    "X_train = vectorizer.fit_transform(train['Text'])\n",
    "\n",
    "# Transform the validation and test texts\n",
    "X_valid = vectorizer.transform(valid['Text'])\n",
    "X_test = vectorizer.transform(test['Text'])\n",
    "\n",
    "# Extract the target labels for training, validation, and test sets\n",
    "y_train = train['Intent']\n",
    "y_valid = valid['Intent']\n",
    "y_test = test['Intent']\n",
    "\n",
    "X_train.shape, X_valid.shape, X_test.shape"
   ]
  },
  {
   "cell_type": "markdown",
   "metadata": {},
   "source": [
    "***The textual data has been successfully converted into numerical format using TF-IDF vectorization. The resulting feature matrix has 306 features.***"
   ]
  },
  {
   "cell_type": "code",
   "execution_count": 15,
   "metadata": {},
   "outputs": [],
   "source": [
    "# Initialize the models\n",
    "models = {\n",
    "    'Logistic Regression': LogisticRegression(max_iter=1000, random_state=42),\n",
    "    'Random Forest': RandomForestClassifier(random_state=42),\n",
    "    'SVM': SVC(probability=True, random_state=42),\n",
    "    'Gradient Boosting': GradientBoostingClassifier(random_state=42),\n",
    "    'XGBoost': XGBClassifier(use_label_encoder=False, eval_metric=\"mlogloss\", random_state=42),\n",
    "    'LightGBM': lgb.LGBMClassifier(random_state=42),\n",
    "    'Multinomial Naive Bayes': MultinomialNB()\n",
    "}"
   ]
  },
  {
   "cell_type": "code",
   "execution_count": 16,
   "metadata": {},
   "outputs": [
    {
     "data": {
      "text/html": [
       "<div>\n",
       "<style scoped>\n",
       "    .dataframe tbody tr th:only-of-type {\n",
       "        vertical-align: middle;\n",
       "    }\n",
       "\n",
       "    .dataframe tbody tr th {\n",
       "        vertical-align: top;\n",
       "    }\n",
       "\n",
       "    .dataframe thead th {\n",
       "        text-align: right;\n",
       "    }\n",
       "</style>\n",
       "<table border=\"1\" class=\"dataframe\">\n",
       "  <thead>\n",
       "    <tr style=\"text-align: right;\">\n",
       "      <th></th>\n",
       "      <th>Accuracy</th>\n",
       "      <th>Precision</th>\n",
       "      <th>Recall</th>\n",
       "      <th>F1-Score</th>\n",
       "    </tr>\n",
       "  </thead>\n",
       "  <tbody>\n",
       "    <tr>\n",
       "      <th>XGBoost</th>\n",
       "      <td>0.918367</td>\n",
       "      <td>0.927114</td>\n",
       "      <td>0.918367</td>\n",
       "      <td>0.918131</td>\n",
       "    </tr>\n",
       "    <tr>\n",
       "      <th>Gradient Boosting</th>\n",
       "      <td>0.918367</td>\n",
       "      <td>0.927114</td>\n",
       "      <td>0.918367</td>\n",
       "      <td>0.917321</td>\n",
       "    </tr>\n",
       "    <tr>\n",
       "      <th>SVM</th>\n",
       "      <td>0.877551</td>\n",
       "      <td>0.885617</td>\n",
       "      <td>0.877551</td>\n",
       "      <td>0.874873</td>\n",
       "    </tr>\n",
       "    <tr>\n",
       "      <th>Logistic Regression</th>\n",
       "      <td>0.877551</td>\n",
       "      <td>0.895795</td>\n",
       "      <td>0.877551</td>\n",
       "      <td>0.868386</td>\n",
       "    </tr>\n",
       "    <tr>\n",
       "      <th>Random Forest</th>\n",
       "      <td>0.877551</td>\n",
       "      <td>0.887075</td>\n",
       "      <td>0.877551</td>\n",
       "      <td>0.867911</td>\n",
       "    </tr>\n",
       "    <tr>\n",
       "      <th>Multinomial Naive Bayes</th>\n",
       "      <td>0.816327</td>\n",
       "      <td>0.834492</td>\n",
       "      <td>0.816327</td>\n",
       "      <td>0.794682</td>\n",
       "    </tr>\n",
       "    <tr>\n",
       "      <th>LightGBM</th>\n",
       "      <td>0.795918</td>\n",
       "      <td>0.757687</td>\n",
       "      <td>0.795918</td>\n",
       "      <td>0.761781</td>\n",
       "    </tr>\n",
       "  </tbody>\n",
       "</table>\n",
       "</div>"
      ],
      "text/plain": [
       "                         Accuracy  Precision    Recall  F1-Score\n",
       "XGBoost                  0.918367   0.927114  0.918367  0.918131\n",
       "Gradient Boosting        0.918367   0.927114  0.918367  0.917321\n",
       "SVM                      0.877551   0.885617  0.877551  0.874873\n",
       "Logistic Regression      0.877551   0.895795  0.877551  0.868386\n",
       "Random Forest            0.877551   0.887075  0.877551  0.867911\n",
       "Multinomial Naive Bayes  0.816327   0.834492  0.816327  0.794682\n",
       "LightGBM                 0.795918   0.757687  0.795918  0.761781"
      ]
     },
     "execution_count": 16,
     "metadata": {},
     "output_type": "execute_result"
    }
   ],
   "source": [
    "# Initialize the label encoder\n",
    "label_encoder = LabelEncoder()\n",
    "\n",
    "# Fit the label encoder on the training labels and transform the labels for training, validation, and test sets\n",
    "y_train_encoded = label_encoder.fit_transform(y_train)\n",
    "y_valid_encoded = label_encoder.transform(y_valid)\n",
    "y_test_encoded = label_encoder.transform(y_test)\n",
    "\n",
    "# Train and evaluate each model with encoded labels\n",
    "results_encoded = {}\n",
    "\n",
    "for name, model in models.items():\n",
    "    # Train the model\n",
    "    model.fit(X_train, y_train_encoded)\n",
    "    \n",
    "    # Predict on the validation set\n",
    "    y_pred_encoded = model.predict(X_valid)\n",
    "    \n",
    "    # Calculate evaluation metrics\n",
    "    accuracy = accuracy_score(y_valid_encoded, y_pred_encoded)\n",
    "    precision = precision_score(y_valid_encoded, y_pred_encoded, average='weighted')\n",
    "    recall = recall_score(y_valid_encoded, y_pred_encoded, average='weighted')\n",
    "    f1 = f1_score(y_valid_encoded, y_pred_encoded, average='weighted')\n",
    "    \n",
    "    results_encoded[name] = [accuracy, precision, recall, f1]\n",
    "\n",
    "# Convert the results into a DataFrame for better visualization\n",
    "results_encoded_df = pd.DataFrame(results_encoded, index=['Accuracy', 'Precision', 'Recall', 'F1-Score']).T\n",
    "results_encoded_df.sort_values(by=\"F1-Score\", ascending=False)"
   ]
  },
  {
   "cell_type": "markdown",
   "metadata": {},
   "source": [
    "***!!!Check ALL Steps Again and:!!!***\n",
    "- Evaluation Step on the Test Set and Choosing Best Model!\n",
    "- Add KNN and Catboost Models\n",
    "- Add Speech Recognition to Test!"
   ]
  },
  {
   "cell_type": "code",
   "execution_count": null,
   "metadata": {},
   "outputs": [],
   "source": []
  }
 ],
 "metadata": {
  "kernelspec": {
   "display_name": "Python 3",
   "language": "python",
   "name": "python3"
  },
  "language_info": {
   "codemirror_mode": {
    "name": "ipython",
    "version": 3
   },
   "file_extension": ".py",
   "mimetype": "text/x-python",
   "name": "python",
   "nbconvert_exporter": "python",
   "pygments_lexer": "ipython3",
   "version": "3.7.3"
  }
 },
 "nbformat": 4,
 "nbformat_minor": 2
}
